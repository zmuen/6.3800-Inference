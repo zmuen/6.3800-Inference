{
  "cells": [
    {
      "cell_type": "markdown",
      "id": "hybrid-oklahoma",
      "metadata": {
        "tags": [],
        "id": "hybrid-oklahoma"
      },
      "source": [
        "# Python Tutorial"
      ]
    },
    {
      "cell_type": "markdown",
      "id": "spiritual-effort",
      "metadata": {
        "id": "spiritual-effort"
      },
      "source": [
        "Python Tutorial - Fall 2024: numpy and matplotlib for scientific computing\n",
        "\n",
        "Additional resources:\n",
        "* Python Scientific Lecture Notes - https://scipy-lectures.github.io/\n",
        "* Numpy Quickstart Tutorial - https://numpy.org/doc/1.19/user/quickstart.html\n",
        "* Matplotlib Examples - https://matplotlib.org/gallery/index.html\n",
        "\n",
        "Note: Python version >= 3.6.9\n",
        "\n",
        "Depedencies (Typically used in 6.3800 Labs): Numpy, Matplotlib, Scipy"
      ]
    },
    {
      "cell_type": "markdown",
      "id": "cardiac-senior",
      "metadata": {
        "tags": [],
        "id": "cardiac-senior"
      },
      "source": [
        "## Basic functions"
      ]
    },
    {
      "cell_type": "markdown",
      "id": "choice-edition",
      "metadata": {
        "id": "choice-edition"
      },
      "source": [
        "### Output using `print()` function"
      ]
    },
    {
      "cell_type": "markdown",
      "id": "genetic-emergency",
      "metadata": {
        "id": "genetic-emergency"
      },
      "source": [
        "This exercise shows a few ways you can print out messages and/or values of variables."
      ]
    },
    {
      "cell_type": "code",
      "execution_count": null,
      "id": "4daf161b-d375-4458-9ecb-956b718027df",
      "metadata": {
        "id": "4daf161b-d375-4458-9ecb-956b718027df"
      },
      "outputs": [],
      "source": [
        "print(\"Hello World!\")"
      ]
    },
    {
      "cell_type": "markdown",
      "id": "165440d4-e46f-426e-a329-285451fc4613",
      "metadata": {
        "id": "165440d4-e46f-426e-a329-285451fc4613"
      },
      "source": [
        "Let's try printing out the value of `x`."
      ]
    },
    {
      "cell_type": "code",
      "execution_count": null,
      "id": "4163c5c1-d104-4d71-a350-b09a5c0952ea",
      "metadata": {
        "id": "4163c5c1-d104-4d71-a350-b09a5c0952ea"
      },
      "outputs": [],
      "source": [
        "x = 42"
      ]
    },
    {
      "cell_type": "markdown",
      "id": "e0b3d88b-ae51-46d3-8bcd-696957e5fdc8",
      "metadata": {
        "id": "e0b3d88b-ae51-46d3-8bcd-696957e5fdc8"
      },
      "source": [
        "Method 1:"
      ]
    },
    {
      "cell_type": "code",
      "execution_count": null,
      "id": "020f6ac7-be69-4dd8-8c2a-206c08bf78ab",
      "metadata": {
        "id": "020f6ac7-be69-4dd8-8c2a-206c08bf78ab"
      },
      "outputs": [],
      "source": [
        "print('x is:')\n",
        "print(x)\n",
        "# print('\\n') # or you can use this -- '\\n' is the newline character"
      ]
    },
    {
      "cell_type": "markdown",
      "id": "54121810-97fe-4219-aee7-e01925beac08",
      "metadata": {
        "id": "54121810-97fe-4219-aee7-e01925beac08"
      },
      "source": [
        "Method 2 (using a comma to concatenate strings):"
      ]
    },
    {
      "cell_type": "code",
      "execution_count": null,
      "id": "b544b4e4-444a-44a9-9c45-e2d2d2f21c1d",
      "metadata": {
        "id": "b544b4e4-444a-44a9-9c45-e2d2d2f21c1d"
      },
      "outputs": [],
      "source": [
        "print('x is:', x)"
      ]
    },
    {
      "cell_type": "markdown",
      "id": "9db5211a-ccbd-41f1-a635-f4311016b777",
      "metadata": {
        "id": "9db5211a-ccbd-41f1-a635-f4311016b777"
      },
      "source": [
        "Method 3 (f-strings): (note the f before the string and curly braces around the variable)"
      ]
    },
    {
      "cell_type": "code",
      "execution_count": null,
      "id": "17db7ac1-919a-4a25-b8d9-7d2ae1bb1209",
      "metadata": {
        "id": "17db7ac1-919a-4a25-b8d9-7d2ae1bb1209"
      },
      "outputs": [],
      "source": [
        "print(f'x is {x}')"
      ]
    },
    {
      "cell_type": "markdown",
      "id": "592e4a3f-643b-4ba8-8b77-a756e33b74c0",
      "metadata": {
        "id": "592e4a3f-643b-4ba8-8b77-a756e33b74c0"
      },
      "source": [
        "Method 3A: If you want to print a line break (\"new line\" character)"
      ]
    },
    {
      "cell_type": "code",
      "execution_count": null,
      "id": "1832fba5-40a9-4e13-851a-1f7aeeecc75b",
      "metadata": {
        "id": "1832fba5-40a9-4e13-851a-1f7aeeecc75b"
      },
      "outputs": [],
      "source": [
        "print(f'x is: \\n{x}')"
      ]
    },
    {
      "cell_type": "markdown",
      "id": "a1d6e2ec-fae9-4131-ac6e-10ad460b7c22",
      "metadata": {
        "id": "a1d6e2ec-fae9-4131-ac6e-10ad460b7c22"
      },
      "source": [
        "Supplementary information on formatting strings (for printing) https://docs.python.org/3/tutorial/inputoutput.html"
      ]
    },
    {
      "cell_type": "markdown",
      "id": "39442126-780e-48eb-a4cf-7adceee84d18",
      "metadata": {
        "id": "39442126-780e-48eb-a4cf-7adceee84d18"
      },
      "source": [
        "## Numpy demo"
      ]
    },
    {
      "cell_type": "code",
      "execution_count": null,
      "id": "d20414f7-d4fc-4304-8432-68ad5a95a543",
      "metadata": {
        "id": "d20414f7-d4fc-4304-8432-68ad5a95a543"
      },
      "outputs": [],
      "source": [
        "import numpy as np"
      ]
    },
    {
      "cell_type": "markdown",
      "id": "fd2faa85-3c38-45d5-8148-8e2b7f552757",
      "metadata": {
        "id": "fd2faa85-3c38-45d5-8148-8e2b7f552757"
      },
      "source": [
        "### Creating `numpy` arrays"
      ]
    },
    {
      "cell_type": "markdown",
      "id": "4efbf47e-5bc4-4c2b-9273-15c350617db1",
      "metadata": {
        "id": "4efbf47e-5bc4-4c2b-9273-15c350617db1"
      },
      "source": [
        "Typically, matrices are stored in numpy as n-dimensional arrays. This exercise shows\n",
        "the manual ways of declaring n-dimensional arrays."
      ]
    },
    {
      "cell_type": "code",
      "execution_count": null,
      "id": "004595f6-dd52-4041-892f-1761f4d0830c",
      "metadata": {
        "id": "004595f6-dd52-4041-892f-1761f4d0830c"
      },
      "outputs": [],
      "source": [
        "a = np.array([1, 2, 3, -1, 999])\n",
        "print('a is:', a)"
      ]
    },
    {
      "cell_type": "markdown",
      "id": "70718cd5-e478-4a33-9091-4e9def684157",
      "metadata": {
        "id": "70718cd5-e478-4a33-9091-4e9def684157"
      },
      "source": [
        "alternatively: using f-strings (note the f before the string and curly braces around the variable)"
      ]
    },
    {
      "cell_type": "code",
      "execution_count": null,
      "id": "4466375c-b1a7-4e9c-be03-2b16b10ee773",
      "metadata": {
        "id": "4466375c-b1a7-4e9c-be03-2b16b10ee773"
      },
      "outputs": [],
      "source": [
        "print(f'a is: {a}')"
      ]
    },
    {
      "cell_type": "code",
      "execution_count": null,
      "id": "c925de0d-456f-40aa-87c9-b4f88b7d3620",
      "metadata": {
        "id": "c925de0d-456f-40aa-87c9-b4f88b7d3620"
      },
      "outputs": [],
      "source": [
        "m1 = np.asarray([[1, 0, 3],\n",
        "                 [0, 1, 0],\n",
        "                 [0, 0, 1]])\n",
        "print('m1 is:')\n",
        "print(m1)"
      ]
    },
    {
      "cell_type": "code",
      "execution_count": null,
      "id": "f64df542-2b96-4829-8c15-a03b94766c17",
      "metadata": {
        "id": "f64df542-2b96-4829-8c15-a03b94766c17"
      },
      "outputs": [],
      "source": [
        "# Exercise: store the transpose of m1 into variable t1.\n",
        "# Google the command for transpose.\n",
        "t1 = None # TODO: replace with the transpose of m1\n",
        "print(f't1 is: \\n{t1}')"
      ]
    },
    {
      "cell_type": "markdown",
      "id": "c80821ed-73a0-4cc6-ada8-00f2cb838573",
      "metadata": {
        "id": "c80821ed-73a0-4cc6-ada8-00f2cb838573"
      },
      "source": [
        "### Initializing `numpy` arrays"
      ]
    },
    {
      "cell_type": "markdown",
      "id": "ed3e460b-cd46-4e53-9a38-8affe68cb569",
      "metadata": {
        "id": "ed3e460b-cd46-4e53-9a38-8affe68cb569"
      },
      "source": [
        "array of ones"
      ]
    },
    {
      "cell_type": "code",
      "execution_count": null,
      "id": "9286abaa-5847-48b1-8735-e5518c5a75dc",
      "metadata": {
        "id": "9286abaa-5847-48b1-8735-e5518c5a75dc"
      },
      "outputs": [],
      "source": [
        "print(np.ones(10))      # Shape: (10,)\n",
        "print(np.ones((3, 3)))  # Shape: (3,3)"
      ]
    },
    {
      "cell_type": "markdown",
      "id": "91096d0e-b16a-43e4-abf6-199650c84279",
      "metadata": {
        "id": "91096d0e-b16a-43e4-abf6-199650c84279"
      },
      "source": [
        "array of zeros"
      ]
    },
    {
      "cell_type": "code",
      "execution_count": null,
      "id": "988e70ee-cbfd-4f5a-bdd3-aab8682c6c70",
      "metadata": {
        "id": "988e70ee-cbfd-4f5a-bdd3-aab8682c6c70"
      },
      "outputs": [],
      "source": [
        "a = np.zeros(10)\n",
        "print(a)\n",
        "print(\"shape of a:\", a.shape)\n",
        "\n",
        "b = np.zeros((3, 3))\n",
        "print(b)\n",
        "print(\"shape of b:\", b.shape)"
      ]
    },
    {
      "cell_type": "markdown",
      "id": "03acad4d-ca0b-4682-872c-c8587fc2db5e",
      "metadata": {
        "id": "03acad4d-ca0b-4682-872c-c8587fc2db5e"
      },
      "source": [
        "identity matrix"
      ]
    },
    {
      "cell_type": "code",
      "execution_count": null,
      "id": "52523733-7bb1-4e55-bb8a-5611ce5ec97d",
      "metadata": {
        "id": "52523733-7bb1-4e55-bb8a-5611ce5ec97d"
      },
      "outputs": [],
      "source": [
        "print(np.eye(3))"
      ]
    },
    {
      "cell_type": "markdown",
      "id": "d6db8eda-3f5d-4a49-8ea9-625c7633e6fd",
      "metadata": {
        "id": "d6db8eda-3f5d-4a49-8ea9-625c7633e6fd"
      },
      "source": [
        "numbers from 0 to 9"
      ]
    },
    {
      "cell_type": "code",
      "execution_count": null,
      "id": "fb39979a-764c-4b25-bd5d-7e4e8a262a84",
      "metadata": {
        "id": "fb39979a-764c-4b25-bd5d-7e4e8a262a84"
      },
      "outputs": [],
      "source": [
        "print(np.arange(0, 10))"
      ]
    },
    {
      "cell_type": "markdown",
      "id": "2ecff869-8666-4257-8671-01d50c08ace2",
      "metadata": {
        "id": "2ecff869-8666-4257-8671-01d50c08ace2"
      },
      "source": [
        "random numbers between 0 and 1"
      ]
    },
    {
      "cell_type": "code",
      "execution_count": null,
      "id": "af66e5df-a654-4b52-9ad9-944888a1bf09",
      "metadata": {
        "id": "af66e5df-a654-4b52-9ad9-944888a1bf09"
      },
      "outputs": [],
      "source": [
        "print(np.random.rand(3, 2))"
      ]
    },
    {
      "cell_type": "code",
      "execution_count": null,
      "id": "fbfb1eda-e53b-4b6d-bd67-da6e27988303",
      "metadata": {
        "id": "fbfb1eda-e53b-4b6d-bd67-da6e27988303"
      },
      "outputs": [],
      "source": [
        "# Exercise: Generate a random matrix of size (3,2)\n",
        "# where every entry is independently\n",
        "# equally likely to be +1 or -1.\n",
        "\n",
        "#TODO: define matrix of shape (3,2), entries equally likely to be +1 or -1\n"
      ]
    },
    {
      "cell_type": "markdown",
      "id": "55427542-fa48-49aa-aa8e-ca75409646c6",
      "metadata": {
        "id": "55427542-fa48-49aa-aa8e-ca75409646c6"
      },
      "source": [
        "### Side note: Help and Documentation"
      ]
    },
    {
      "cell_type": "markdown",
      "id": "a8e60cfc-21fb-4265-9427-9ac0ce6129e8",
      "metadata": {
        "id": "a8e60cfc-21fb-4265-9427-9ac0ce6129e8"
      },
      "source": [
        "If you want to use a certain function, but forgot the syntax\n",
        "(e.g. what arguments is required), you can either look up the documentation\n",
        "online, or use the `help` command."
      ]
    },
    {
      "cell_type": "code",
      "execution_count": null,
      "id": "e763a59c-7d0e-4609-b976-6c2eed43d038",
      "metadata": {
        "id": "e763a59c-7d0e-4609-b976-6c2eed43d038"
      },
      "outputs": [],
      "source": [
        "help(np.ones)"
      ]
    },
    {
      "cell_type": "markdown",
      "id": "4723b442-6c44-48c3-8676-96676c559dd9",
      "metadata": {
        "id": "4723b442-6c44-48c3-8676-96676c559dd9"
      },
      "source": [
        "If you are unsure which function to use, looking up documentation\n",
        "(e.g. https://numpy.org/doc/stable/reference/routines.array-creation.html)\n",
        "or examples online (e.g. https://numpy.org/doc/stable/user/basics.creation.html#arrays-creation)\n",
        "might help!"
      ]
    },
    {
      "cell_type": "markdown",
      "id": "567534ad-6d4f-4529-8abd-6324015c9573",
      "metadata": {
        "id": "567534ad-6d4f-4529-8abd-6324015c9573"
      },
      "source": [
        "### Manipulating numpy arrays -- Indexing"
      ]
    },
    {
      "cell_type": "code",
      "execution_count": null,
      "id": "1b3c9cdb-78ef-4175-ac0b-11f1fc308ef3",
      "metadata": {
        "id": "1b3c9cdb-78ef-4175-ac0b-11f1fc308ef3"
      },
      "outputs": [],
      "source": [
        "a = np.array([[1, 2, 3],\n",
        "              [4, 5, 6]])\n",
        "print(f'a is: \\n{a}')"
      ]
    },
    {
      "cell_type": "markdown",
      "id": "428fc51b-1294-4d23-bcbf-c519742b5bcd",
      "metadata": {
        "id": "428fc51b-1294-4d23-bcbf-c519742b5bcd"
      },
      "source": [
        "`arr[row_index, column_index]` to select a cell in the matrix"
      ]
    },
    {
      "cell_type": "code",
      "execution_count": null,
      "id": "450665c3-6c1d-4e4f-b459-ae65d2fb3de0",
      "metadata": {
        "id": "450665c3-6c1d-4e4f-b459-ae65d2fb3de0"
      },
      "outputs": [],
      "source": [
        "a[0, 0] = 100\n",
        "print(f'a is now: \\n{a}')\n"
      ]
    },
    {
      "cell_type": "markdown",
      "id": "544d5bd9-ffe1-460a-9877-e4998d907b13",
      "metadata": {
        "id": "544d5bd9-ffe1-460a-9877-e4998d907b13"
      },
      "source": [
        "To select the last index along the respective axis, you can use '-1'"
      ]
    },
    {
      "cell_type": "code",
      "execution_count": null,
      "id": "dafd17d8-9700-4788-9d32-fed31a1b994b",
      "metadata": {
        "id": "dafd17d8-9700-4788-9d32-fed31a1b994b"
      },
      "outputs": [],
      "source": [
        "a[0, -1] = 400\n",
        "print(f'a is now: \\n{a}')"
      ]
    },
    {
      "cell_type": "markdown",
      "id": "2976f92a-e40d-4417-9e86-0e397093a339",
      "metadata": {
        "id": "2976f92a-e40d-4417-9e86-0e397093a339"
      },
      "source": [
        "Using the copy command, and copy a sub-matrix of a"
      ]
    },
    {
      "cell_type": "code",
      "execution_count": null,
      "id": "0bdb5122-176a-4e37-82d4-9dcfca244830",
      "metadata": {
        "id": "0bdb5122-176a-4e37-82d4-9dcfca244830"
      },
      "outputs": [],
      "source": [
        "c = a.copy()[:, 0:2] # select all rows, and columns 0 to 2\n",
        "print(f'c is: \\n{c}')"
      ]
    },
    {
      "cell_type": "markdown",
      "id": "fecedbd4-ac32-4984-b227-1b2f34ed762d",
      "metadata": {
        "id": "fecedbd4-ac32-4984-b227-1b2f34ed762d"
      },
      "source": [
        "### Manipulating numpy arrays -- Copying by reference vs value"
      ]
    },
    {
      "cell_type": "markdown",
      "id": "13e4f989-f222-458a-b754-4c58aca66244",
      "metadata": {
        "id": "13e4f989-f222-458a-b754-4c58aca66244"
      },
      "source": [
        "Numpy arrays are similar to normal arrays in the sense that the variable is a pointer.\n",
        "\n",
        "As the variable is a pointer, assigning an array to a new variable leads to a \"copy by reference\" rather than a \"copy by value\"."
      ]
    },
    {
      "cell_type": "code",
      "execution_count": null,
      "id": "54b173d9-e151-408a-b2ec-7be5f0fc41b7",
      "metadata": {
        "id": "54b173d9-e151-408a-b2ec-7be5f0fc41b7"
      },
      "outputs": [],
      "source": [
        "a = np.array([[1, 2, 3],\n",
        "              [4, 5, 6]])\n",
        "b = a\n",
        "print(f'a is: \\n{a}')\n",
        "print('I want to make a copy and save it as a new variable b')\n",
        "print(f'b is: \\n{b}')"
      ]
    },
    {
      "cell_type": "markdown",
      "id": "8fefd703-71c1-478f-ac44-2d458244a9f8",
      "metadata": {
        "id": "8fefd703-71c1-478f-ac44-2d458244a9f8"
      },
      "source": [
        "Copy by Reference"
      ]
    },
    {
      "cell_type": "code",
      "execution_count": null,
      "id": "6922b172-eeaf-40c5-a901-f6f1f394c0c1",
      "metadata": {
        "id": "6922b172-eeaf-40c5-a901-f6f1f394c0c1"
      },
      "outputs": [],
      "source": [
        "a = np.array([[1, 2, 3],\n",
        "              [4, 5, 6]])\n",
        "b = a\n",
        "a[0, 0] = 100\n",
        "print(f'a is now: \\n{a}')\n",
        "print(f'b has changed as well: \\n{b}')"
      ]
    },
    {
      "cell_type": "markdown",
      "id": "951a1a6e-10a8-4e15-909b-795883472c0c",
      "metadata": {
        "id": "951a1a6e-10a8-4e15-909b-795883472c0c"
      },
      "source": [
        "Copy by Value"
      ]
    },
    {
      "cell_type": "code",
      "execution_count": null,
      "id": "b3b3acf4-2958-4846-8e46-f08fcb5ea1d0",
      "metadata": {
        "id": "b3b3acf4-2958-4846-8e46-f08fcb5ea1d0"
      },
      "outputs": [],
      "source": [
        "a = np.array([[1, 2, 3],\n",
        "              [4, 5, 6]])\n",
        "b = a.copy()\n",
        "a[0, 0] = 100\n",
        "print(f'a is now: \\n{a}')\n",
        "print(f'b is still: \\n{b}')"
      ]
    },
    {
      "cell_type": "code",
      "execution_count": null,
      "id": "5a5593be-ef1f-4eee-868d-53fcefadea3b",
      "metadata": {
        "id": "5a5593be-ef1f-4eee-868d-53fcefadea3b"
      },
      "outputs": [],
      "source": [
        "# Exercise: Replicate your solution to exercise 1 and change a value\n",
        "# in the original matrix. What happens to the transposed matrix?\n",
        "# Change a value in the tranposed matrix. What happens to the original matrix?\n",
        "m1 = np.asarray([[1, 0, 3],\n",
        "                 [0, 1, 0],\n",
        "                 [0, 0, 1]])\n",
        "\n",
        "t1 = np.zeros((3, 3)) # replace with transpose of m1\n",
        "print(f'm1 is: \\n{m1}')\n",
        "print(f't1 is: \\n{t1}')\n",
        "print()\n",
        "\n",
        "m1[0, 0] = 100\n",
        "print(f'After modifying m1: \\n{m1}')\n",
        "print(f't1: \\n{t1}')\n",
        "print()\n",
        "\n",
        "t1[1, 1] = 100\n",
        "print(f'After modifying t1: \\n{t1}')\n",
        "print(f'm1: \\n{m1}')\n",
        "print()"
      ]
    },
    {
      "cell_type": "markdown",
      "id": "d6d9bba4-c451-47c8-99e7-f8d5aa72e87d",
      "metadata": {
        "id": "d6d9bba4-c451-47c8-99e7-f8d5aa72e87d"
      },
      "source": [
        "We create two new variables, `t1` and `t2`, both of which are the transpose\n",
        "of `m1`. When we change a value in the original `m1` matrix,\n",
        "let's see what happens."
      ]
    },
    {
      "cell_type": "code",
      "execution_count": null,
      "id": "d04fbe5a-41e6-43a0-8f0d-3fcc38489616",
      "metadata": {
        "id": "d04fbe5a-41e6-43a0-8f0d-3fcc38489616"
      },
      "outputs": [],
      "source": [
        "m1 = np.asarray([[1, 0, 3],\n",
        "                 [0, 1, 0],\n",
        "                 [0, 0, 1]])\n",
        "\n",
        "t1 = np.transpose(m1)\n",
        "t2 = np.transpose(m1.copy())\n",
        "\n",
        "print(f'm1 is: \\n{m1}')\n",
        "print(f't1 is: \\n{t1}')\n",
        "print(f't2 is: \\n{t2}')\n",
        "print()\n",
        "\n",
        "m1[0, 0] = 100\n",
        "print('After modifying m1:')\n",
        "print(f'm1 is: \\n{m1}')\n",
        "print(f't1 is: \\n{t1}')\n",
        "print(f't2 is: \\n{t2}')"
      ]
    },
    {
      "cell_type": "markdown",
      "id": "464d3a89-0a23-44d7-a696-848b71b49249",
      "metadata": {
        "id": "464d3a89-0a23-44d7-a696-848b71b49249"
      },
      "source": [
        "### For loops with list or arrays"
      ]
    },
    {
      "cell_type": "markdown",
      "id": "09ba3300-80bf-4ceb-9d1b-8262788c451f",
      "metadata": {
        "id": "09ba3300-80bf-4ceb-9d1b-8262788c451f"
      },
      "source": [
        "In labs, you may need to iterate over a set of numbers/parameters, and\n",
        "you want to save the final output of each iteration into a list or\n",
        "a numpy array."
      ]
    },
    {
      "cell_type": "markdown",
      "id": "a99a2eaa-752c-4bee-be66-007779252467",
      "metadata": {
        "id": "a99a2eaa-752c-4bee-be66-007779252467"
      },
      "source": [
        "You can store the outputs by appending it to a list."
      ]
    },
    {
      "cell_type": "code",
      "execution_count": null,
      "id": "f75b7352-cdf0-4ca0-8aef-de36f4f12d53",
      "metadata": {
        "id": "f75b7352-cdf0-4ca0-8aef-de36f4f12d53"
      },
      "outputs": [],
      "source": [
        "all_outputs = [] # this creates an empty list\n",
        "for i in range(100):\n",
        "    output = i*i\n",
        "    all_outputs.append(output) # appends add the value to the end of the list\n",
        "    # You may refer to the documentation on python lists:\n",
        "    # https://docs.python.org/3/tutorial/datastructures.html\n",
        "print(all_outputs[:10])\n",
        "print(type(all_outputs))"
      ]
    },
    {
      "cell_type": "markdown",
      "id": "4068eaae-8bae-44fb-997e-8b65613707e4",
      "metadata": {
        "id": "4068eaae-8bae-44fb-997e-8b65613707e4"
      },
      "source": [
        "Now, you can convert the list into a numpy array, if you intend to perform\n",
        "further numpy operations on it"
      ]
    },
    {
      "cell_type": "code",
      "execution_count": null,
      "id": "d18a48cf-7136-4267-a1f2-591074d44fc8",
      "metadata": {
        "id": "d18a48cf-7136-4267-a1f2-591074d44fc8"
      },
      "outputs": [],
      "source": [
        "all_outputs2 = np.asarray(all_outputs)\n",
        "print(all_outputs2[:10])\n",
        "print(type(all_outputs2))"
      ]
    },
    {
      "cell_type": "markdown",
      "id": "32074de1-ce1f-4a9c-834a-83bc160957cd",
      "metadata": {
        "id": "32074de1-ce1f-4a9c-834a-83bc160957cd"
      },
      "source": [
        "Alternatively, we can first initialize a new numpy array (as in exercise 2)\n",
        "and save the outputs into this array inside the for loop"
      ]
    },
    {
      "cell_type": "code",
      "execution_count": null,
      "id": "f2614f85-12bc-4984-99a6-f905cfb72c7a",
      "metadata": {
        "id": "f2614f85-12bc-4984-99a6-f905cfb72c7a"
      },
      "outputs": [],
      "source": [
        "all_outputs = np.zeros(100)\n",
        "for i in range(100):\n",
        "    all_outputs[i] = i*i\n",
        "print(all_outputs[:10])\n",
        "print(type(all_outputs))\n"
      ]
    },
    {
      "cell_type": "code",
      "execution_count": null,
      "id": "34097847-2ba3-48ec-b615-376c2820d828",
      "metadata": {
        "id": "34097847-2ba3-48ec-b615-376c2820d828"
      },
      "outputs": [],
      "source": [
        "# Exercise: Using a for loop, create a numpy array with the first 21 numbers\n",
        "# of the Fibonacci Sequence\n",
        "# (Fibonacci numbers: n[0]=0, n[1]=1, n[i]=n[i-1]+n[i-2] for i > 1)\n",
        "\n",
        "#TODO: Generate the first 21 Fibonacci numbers (with a for loop)"
      ]
    },
    {
      "cell_type": "markdown",
      "id": "282351ed-96ca-4ddd-ba67-446b07a7376e",
      "metadata": {
        "id": "282351ed-96ca-4ddd-ba67-446b07a7376e"
      },
      "source": [
        "### Read/write numpy arrays to files"
      ]
    },
    {
      "cell_type": "code",
      "execution_count": null,
      "id": "4c7a5d9e-7fc9-4db2-9f3d-b57b1bc11127",
      "metadata": {
        "id": "4c7a5d9e-7fc9-4db2-9f3d-b57b1bc11127"
      },
      "outputs": [],
      "source": [
        "a = np.eye(3)\n",
        "print(f\"a = \\n{a}\")\n",
        "np.savetxt('identity.txt', a)\n",
        "# Reference: https://numpy.org/doc/stable/reference/generated/numpy.savetxt.html"
      ]
    },
    {
      "cell_type": "code",
      "execution_count": null,
      "id": "39af8149-ae5e-41cb-ad2d-f5564b79f4b5",
      "metadata": {
        "id": "39af8149-ae5e-41cb-ad2d-f5564b79f4b5"
      },
      "outputs": [],
      "source": [
        "b = np.loadtxt('identity.txt')\n",
        "# Reference: https://numpy.org/doc/stable/reference/generated/numpy.loadtxt.html\n",
        "print(f\"b = \\n{b}\")"
      ]
    },
    {
      "cell_type": "code",
      "execution_count": null,
      "id": "2841727e-b17a-4a94-9b1f-da339b8022b6",
      "metadata": {
        "id": "2841727e-b17a-4a94-9b1f-da339b8022b6"
      },
      "outputs": [],
      "source": [
        "# Exercise: Examine the text file that was created. Put commas between the values\n",
        "# to convert to a csv-like format. Modify the np.loadtxt command to read the updated\n",
        "# text file.\n",
        "\n",
        "# TODO: modify loadtxt (Hint: delimiter)"
      ]
    },
    {
      "cell_type": "markdown",
      "id": "08ea8886-610a-4b1d-8c6b-55391f1fff4d",
      "metadata": {
        "id": "08ea8886-610a-4b1d-8c6b-55391f1fff4d"
      },
      "source": [
        "### Matrix multiplication"
      ]
    },
    {
      "cell_type": "code",
      "execution_count": null,
      "id": "5a99ea75-e8fb-43bf-b20f-8c112951f7ea",
      "metadata": {
        "id": "5a99ea75-e8fb-43bf-b20f-8c112951f7ea"
      },
      "outputs": [],
      "source": [
        "a = np.array([[1, 2],\n",
        "              [3, 4],\n",
        "              [5, 6]]) # shape: (3, 2)\n",
        "b = np.array([10, 100]) # shape: (2,) --> row vector\n",
        "print(f'a = \\n{a}')\n",
        "print(f'b = \\n{b}')\n",
        "print(f\"Shape of a: {a.shape}, Shape of b: {b.shape}\")\n",
        "print()\n",
        "\n",
        "x = a.dot(b) # shapes: (x, y) dot (y, z) = (x, z) --> (3,2) dot (2,)\n",
        "print(f\"a dot b = \\n{x} \\nShape: {x.shape}\")"
      ]
    },
    {
      "cell_type": "code",
      "execution_count": null,
      "id": "47afa34f-325f-4f17-a04d-a5516a3d3511",
      "metadata": {
        "id": "47afa34f-325f-4f17-a04d-a5516a3d3511"
      },
      "outputs": [],
      "source": [
        "c = np.array([[ 10],\n",
        "              [100]])  # (2,1) --> column vector\n",
        "print(f'a = \\n{a}')\n",
        "print(f'c = \\n{c}')\n",
        "print(f\"Shape of a: {a.shape}, Shape of c: {c.shape}\")\n",
        "y = a.dot(c)\n",
        "print(f\"a dot b = \\n{y} \\nShape: {y.shape}\")\n",
        "# shape: (3,2) dot (2,1) = (3,1)"
      ]
    },
    {
      "cell_type": "code",
      "execution_count": null,
      "id": "c2962f7f-bd7d-4135-9799-cc7f374dab6c",
      "metadata": {
        "id": "c2962f7f-bd7d-4135-9799-cc7f374dab6c"
      },
      "outputs": [],
      "source": [
        "print(f'b = \\n{b}')\n",
        "print(f'c = \\n{c}')\n",
        "print(\"b dot c =\")\n",
        "print(b.dot(c))"
      ]
    },
    {
      "cell_type": "code",
      "execution_count": null,
      "id": "dbb6cc75-6921-40ef-b865-afdcd76aef3f",
      "metadata": {
        "id": "dbb6cc75-6921-40ef-b865-afdcd76aef3f"
      },
      "outputs": [],
      "source": [
        "a = np.array([[1, 2],\n",
        "              [3, 4],\n",
        "              [5, 6]])\n",
        "print(f'a: \\n{a}')\n",
        "print(\"Sum all elements of a:\")\n",
        "print(np.sum(a))\n",
        "print(\"Column sum of a (along axis=0):\")\n",
        "print(np.sum(a, axis=0))\n",
        "print(\"Row sum of a (along axis=1):\")\n",
        "print(np.sum(a, axis=1))"
      ]
    },
    {
      "cell_type": "code",
      "execution_count": null,
      "id": "29a4af41-9bcf-4b36-a8a7-12be69900795",
      "metadata": {
        "id": "29a4af41-9bcf-4b36-a8a7-12be69900795"
      },
      "outputs": [],
      "source": [
        "# Exercise: Notice that summing along axis 0 and 1 both produced 1-d arrays.\n",
        "# Sometimes we want to maintain the dimensions to perform row or column-wise\n",
        "# operations. Look up the input parameter to retain the dimension and modify the last\n",
        "# two np.sum statements.\n",
        "# Hint: help(np.sum)\n",
        "\n",
        "# TODO: Perform row and column wise sums while retaining the dimension of the outputs"
      ]
    },
    {
      "cell_type": "markdown",
      "id": "55435739-806e-448f-926c-16a45793846c",
      "metadata": {
        "id": "55435739-806e-448f-926c-16a45793846c"
      },
      "source": [
        "### Broadcasting"
      ]
    },
    {
      "cell_type": "markdown",
      "id": "778004d0-ccca-4f46-a915-212c8cea9212",
      "metadata": {
        "id": "778004d0-ccca-4f46-a915-212c8cea9212"
      },
      "source": [
        "For element-wise operations, numpy automatically expands dimensions\n",
        "of size one to match the shape of the other n-dimensional array."
      ]
    },
    {
      "cell_type": "code",
      "execution_count": null,
      "id": "6a9b1110-4716-4928-951a-e319cb1051ab",
      "metadata": {
        "id": "6a9b1110-4716-4928-951a-e319cb1051ab"
      },
      "outputs": [],
      "source": [
        "a = np.array([1, 2])   # Shape: (2,)\n",
        "b = np.array([[1, 2],\n",
        "              [3, 4]]) # Shape: (2,2)\n",
        "print(f'a = \\n{a} \\n')\n",
        "print(f'b = \\n{b} \\n')\n",
        "print(f'a + b = \\n{a+b} \\n')\n",
        "# Equivalent to np.array([[1,2], [1,2]]) + np.array([[1,2], [3,4]])"
      ]
    },
    {
      "cell_type": "code",
      "execution_count": null,
      "id": "aa138749-b07e-427a-8fcc-25d64d5e2bc8",
      "metadata": {
        "id": "aa138749-b07e-427a-8fcc-25d64d5e2bc8"
      },
      "outputs": [],
      "source": [
        "c = np.array([[1],\n",
        "               [2]]) # Shape: (1,2)\n",
        "print(f'c = \\n{c} \\n')\n",
        "print(f'b = \\n{b} \\n')\n",
        "print(f'c + b = \\n{c+b} \\n')\n",
        "# Equivalent to np.array([[1,1], [2,2]]) + np.array([[1,2], [3,4]])"
      ]
    },
    {
      "cell_type": "code",
      "execution_count": null,
      "id": "e8425cab-0970-4df0-bcea-7513a1e16b39",
      "metadata": {
        "id": "e8425cab-0970-4df0-bcea-7513a1e16b39"
      },
      "outputs": [],
      "source": [
        "# Exercise: In the zoo, there are 88 elephants that like ice cream and 33 elephants that don't.\n",
        "# There are 55 tigers that like ice cream and 52 that don't.\n",
        "# `zoo` is a 2x2 array that represents the table summarizing the different types.\n",
        "\n",
        "#               like|dislike\n",
        "zoo = np.array([[88, 33],  # elephants\n",
        "                [55, 52]]) # tigers\n",
        "\n",
        "# TODO: Divide by the total number of animals to display the fraction of the different types.\n",
        "frac = None # replace None with your answer\n",
        "print(f'Counts: \\n{zoo} \\n')\n",
        "print(f'Fraction: \\n{frac} \\n')"
      ]
    },
    {
      "cell_type": "code",
      "execution_count": null,
      "id": "b65f7edd-511f-492b-93f8-974b8609dc99",
      "metadata": {
        "id": "b65f7edd-511f-492b-93f8-974b8609dc99"
      },
      "outputs": [],
      "source": [
        "# Exercise: Now use np.sum and broadcasting to divide each row by its row sum.\n",
        "\n",
        "# If the rows represent different animals, the resulting table should\n",
        "# denote the ice cream preference within each group of animals.\n",
        "# If the rows represent preferences, the resulting table should denote\n",
        "# animal fractions within preference groups.\n",
        "\n",
        "# Repeat for columns.\n",
        "\n",
        "#TODO: Perform row and column wise normalization"
      ]
    },
    {
      "cell_type": "markdown",
      "id": "c3492ba8-9a51-464e-afc8-0a3315a4069b",
      "metadata": {
        "id": "c3492ba8-9a51-464e-afc8-0a3315a4069b"
      },
      "source": [
        "## Plotting with matplotlib"
      ]
    },
    {
      "cell_type": "code",
      "execution_count": null,
      "id": "eea1997b-1336-4b72-8d7d-d11c723e8262",
      "metadata": {
        "id": "eea1997b-1336-4b72-8d7d-d11c723e8262"
      },
      "outputs": [],
      "source": [
        "import matplotlib.pyplot as plt"
      ]
    },
    {
      "cell_type": "markdown",
      "id": "53cb7ca3-011d-4bf5-b0e3-0b9cb775fe57",
      "metadata": {
        "id": "53cb7ca3-011d-4bf5-b0e3-0b9cb775fe57"
      },
      "source": [
        "### Plotting example"
      ]
    },
    {
      "cell_type": "markdown",
      "id": "68925655-b4c1-4e90-8ad7-b4a5a436a9be",
      "metadata": {
        "id": "68925655-b4c1-4e90-8ad7-b4a5a436a9be"
      },
      "source": [
        "For more examples and references: https://matplotlib.org/stable/tutorials/introductory/pyplot.html, https://matplotlib.org/stable/tutorials/introductory/sample_plots.html"
      ]
    },
    {
      "cell_type": "code",
      "execution_count": null,
      "id": "7a3acddb-d689-4260-9af4-92ba50c0e11c",
      "metadata": {
        "id": "7a3acddb-d689-4260-9af4-92ba50c0e11c"
      },
      "outputs": [],
      "source": [
        "x = np.arange(100)"
      ]
    },
    {
      "cell_type": "markdown",
      "id": "ea626f27-a8b1-4ec8-aca6-26cb70b7a0d4",
      "metadata": {
        "id": "ea626f27-a8b1-4ec8-aca6-26cb70b7a0d4"
      },
      "source": [
        "Plotting `y=x^2` curve"
      ]
    },
    {
      "cell_type": "code",
      "execution_count": null,
      "id": "b1621ec7-982f-4a8c-959c-4f01e0905eff",
      "metadata": {
        "id": "b1621ec7-982f-4a8c-959c-4f01e0905eff"
      },
      "outputs": [],
      "source": [
        "plt.plot(x, x**2, 'g') # plotting x^2\n",
        "plt.xlabel('$x$') # give x axis a label\n",
        "plt.ylabel('$x^2$') # give y axis a label\n",
        "# Note: the dollar signs ($...$) is used to format mathematical expressions (TeX)\n",
        "plt.title('Plot 1') # add a title\n",
        "plt.savefig('y_eq_x_sq_curve.png') # save image file\n",
        "plt.show()\n",
        "# actually show what we plotted (you could also just call this after\n",
        "# creating several plots - they will then all show up at the same time"
      ]
    },
    {
      "cell_type": "markdown",
      "id": "e8b87bc0-85a4-47a9-ab29-1337c5a01356",
      "metadata": {
        "id": "e8b87bc0-85a4-47a9-ab29-1337c5a01356"
      },
      "source": [
        "Plotting `y=x` and `y=x^2` in the same figure"
      ]
    },
    {
      "cell_type": "code",
      "execution_count": null,
      "id": "22a08c23-d25d-4e13-a56c-9f8539137186",
      "metadata": {
        "id": "22a08c23-d25d-4e13-a56c-9f8539137186"
      },
      "outputs": [],
      "source": [
        "plt.plot(x, x, 'r', label='x') # add label='x' for plt.legend() command later\n",
        "plt.plot(x, x**2, 'g', label='x^2')\n",
        "plt.xlabel('$x$')\n",
        "plt.ylabel('$x^2$')\n",
        "plt.title('Plot 2')\n",
        "plt.ylim((0, 100)) # change the range shown for the y-axis\n",
        "plt.legend() # add a legend that tells us the label of the two different plots\n",
        "plt.show()"
      ]
    },
    {
      "cell_type": "markdown",
      "id": "ea5455b6-e2ff-4503-9dab-94068d2394e9",
      "metadata": {
        "id": "ea5455b6-e2ff-4503-9dab-94068d2394e9"
      },
      "source": [
        "Create a sequence of random points we are going to plot"
      ]
    },
    {
      "cell_type": "code",
      "execution_count": null,
      "id": "10c57e2f-9fc6-4e13-9989-c391680bc2b6",
      "metadata": {
        "id": "10c57e2f-9fc6-4e13-9989-c391680bc2b6"
      },
      "outputs": [],
      "source": [
        "y = np.random.rand(x.shape[0])\n",
        "plt.plot(x, y, 'xr')\n",
        "plt.xlabel('$x$')\n",
        "plt.ylabel('Random Numbers')\n",
        "plt.title('Plot 3')\n",
        "plt.show()"
      ]
    },
    {
      "cell_type": "markdown",
      "id": "42e418d2-ec8b-446c-963a-a6224f5c6f4f",
      "metadata": {
        "id": "42e418d2-ec8b-446c-963a-a6224f5c6f4f"
      },
      "source": [
        "Visualize a 2D array of random values between 0 and 1"
      ]
    },
    {
      "cell_type": "code",
      "execution_count": null,
      "id": "a2ce1737-5311-4fd4-af53-41dfcdb8e37e",
      "metadata": {
        "id": "a2ce1737-5311-4fd4-af53-41dfcdb8e37e"
      },
      "outputs": [],
      "source": [
        "I = np.random.rand(100, 100)\n",
        "plt.title('plot 4')\n",
        "plt.imshow(I, interpolation='nearest') # nearest interpolation makes it look crisp\n",
        "plt.colorbar() # add colorbar to the side to show mapping between pixel values and colors\n",
        "plt.show()"
      ]
    },
    {
      "cell_type": "markdown",
      "id": "44c9dd06-20d6-48a7-ae26-fddc34a7b4cb",
      "metadata": {
        "id": "44c9dd06-20d6-48a7-ae26-fddc34a7b4cb"
      },
      "source": [
        "## Miscellaneous"
      ]
    },
    {
      "cell_type": "markdown",
      "id": "059bf1fb-3899-4162-9f99-cf22a10fd19c",
      "metadata": {
        "id": "059bf1fb-3899-4162-9f99-cf22a10fd19c"
      },
      "source": [
        "### Timing code"
      ]
    },
    {
      "cell_type": "code",
      "execution_count": null,
      "id": "40b93632-c88a-42b1-8238-37d92e4464c9",
      "metadata": {
        "id": "40b93632-c88a-42b1-8238-37d92e4464c9"
      },
      "outputs": [],
      "source": [
        "import time"
      ]
    },
    {
      "cell_type": "markdown",
      "id": "3f45a00e-96b2-4f36-8492-e0281c77e608",
      "metadata": {
        "id": "3f45a00e-96b2-4f36-8492-e0281c77e608"
      },
      "source": [
        "Note: This is a coarse way to measure the time spent to execute a certain code block\n",
        "which suffices for the purposes of 6.008. When doing this comparison, ensure\n",
        "that you are runing the code blocks on the same machine setup.\n",
        "\n",
        "For more rigorous way of measuring code efficiency, there are other tools and methods\n",
        "e.g. https://docs.python.org/3/library/timeit.html."
      ]
    },
    {
      "cell_type": "code",
      "execution_count": null,
      "id": "0f7723ff-d33f-430d-b960-9634ab7649ca",
      "metadata": {
        "id": "0f7723ff-d33f-430d-b960-9634ab7649ca"
      },
      "outputs": [],
      "source": [
        "x = np.random.rand(10000000) - 0.5\n",
        "y = np.random.rand(10000000) - 0.5"
      ]
    },
    {
      "cell_type": "markdown",
      "id": "c06908a0-150b-41c2-80ee-d75fa17601eb",
      "metadata": {
        "id": "c06908a0-150b-41c2-80ee-d75fa17601eb"
      },
      "source": [
        "With numpy:"
      ]
    },
    {
      "cell_type": "code",
      "execution_count": null,
      "id": "d5877138-6574-47b8-819a-7167c941897c",
      "metadata": {
        "id": "d5877138-6574-47b8-819a-7167c941897c"
      },
      "outputs": [],
      "source": [
        "startTime = time.time()\n",
        "print(f\"Answer: {x.dot(y)}\")\n",
        "print(f\"Time elapsed: {time.time() - startTime}\")   # This took 0.008 seconds on Google colab"
      ]
    },
    {
      "cell_type": "markdown",
      "id": "3e769a00-363c-4c53-b45e-e5eda0e11df7",
      "metadata": {
        "id": "3e769a00-363c-4c53-b45e-e5eda0e11df7"
      },
      "source": [
        "With for loops:"
      ]
    },
    {
      "cell_type": "code",
      "execution_count": null,
      "id": "0111705a-a823-4b79-be30-9bb386becd41",
      "metadata": {
        "id": "0111705a-a823-4b79-be30-9bb386becd41"
      },
      "outputs": [],
      "source": [
        "startTime = time.time()\n",
        "ans = 0.0\n",
        "comp_time = np.zeros(10000000)\n",
        "for i in range(len(x)):\n",
        "    ans += x[i] * y[i]\n",
        "comp_time[i] = time.time() - startTime\n",
        "print(f\"Answer: {ans}\")\n",
        "print(f\"Time elapsed: {time.time() - startTime}\")   # This took 5.4 seconds on Google colab"
      ]
    },
    {
      "cell_type": "markdown",
      "id": "9fd0baa2-c326-48ad-a0de-3a59c85e7664",
      "metadata": {
        "id": "9fd0baa2-c326-48ad-a0de-3a59c85e7664"
      },
      "source": [
        "### Defining a new function"
      ]
    },
    {
      "cell_type": "markdown",
      "id": "17299467-44c8-4d98-b0c0-95210dc70f2a",
      "metadata": {
        "id": "17299467-44c8-4d98-b0c0-95210dc70f2a"
      },
      "source": [
        "If a particular code block is going to be reused multiple times with a different\n",
        "set of numbers, consider creating a new function instead!\n",
        "Note: In the labs, you are frequently given the definition of a Python function\n",
        "(which you should not change), and are asked to complete the function accordingly."
      ]
    },
    {
      "cell_type": "markdown",
      "id": "581ab825-4040-4dcc-9db5-7786ac1774b7",
      "metadata": {
        "id": "581ab825-4040-4dcc-9db5-7786ac1774b7"
      },
      "source": [
        "Let's create a function that takes a number a, and returns 2 numbers --\n",
        "`a ** 2` and `a ** 0.5` (square and square root of the number)"
      ]
    },
    {
      "cell_type": "code",
      "execution_count": null,
      "id": "ebfc945a-2138-4a5a-baef-fa380aa96857",
      "metadata": {
        "id": "ebfc945a-2138-4a5a-baef-fa380aa96857"
      },
      "outputs": [],
      "source": [
        "def my_function(a):\n",
        "    return a**2, a**0.5"
      ]
    },
    {
      "cell_type": "code",
      "execution_count": null,
      "id": "ac1a1f42-6585-41ee-8142-3aa3ea7c34bd",
      "metadata": {
        "id": "ac1a1f42-6585-41ee-8142-3aa3ea7c34bd"
      },
      "outputs": [],
      "source": [
        "a_arr = np.arange(5)\n",
        "\n",
        "a_output = np.zeros((3,5))\n",
        "a_output[0,:] = a_arr\n",
        "\n",
        "for i, a in enumerate(a_arr): # looping over every value in a_arr\n",
        "    a_sq, a_sqrt = my_function(a)\n",
        "    a_output[1,i] = a_sq\n",
        "    a_output[2,i] = a_sqrt\n",
        "\n",
        "print(a_output)"
      ]
    },
    {
      "cell_type": "markdown",
      "id": "5ebac56b-0064-4bdd-b192-69c5425b0b1f",
      "metadata": {
        "id": "5ebac56b-0064-4bdd-b192-69c5425b0b1f"
      },
      "source": [
        "### Using log domain with probability computations to avoid underflow/overflow"
      ]
    },
    {
      "cell_type": "markdown",
      "id": "8ed384bd-178a-4abf-a2ef-f46fcd6c81f1",
      "metadata": {
        "id": "8ed384bd-178a-4abf-a2ef-f46fcd6c81f1"
      },
      "source": [
        "Underflow (Overflow): internal computer representation of very small (large) numbers does not have enough bits to represent them in memory, and hence rounds them to roughly zero (inf).\n",
        "\n",
        "(You may encounter underflow when manipulating probability terms in future labs.)"
      ]
    },
    {
      "cell_type": "markdown",
      "id": "587a3fe1-425f-4c4e-a7e9-618b7dfc6682",
      "metadata": {
        "id": "587a3fe1-425f-4c4e-a7e9-618b7dfc6682"
      },
      "source": [
        "Example:\n",
        "\n",
        "Consider the computation: `x = a * b * c * d`,\n",
        "where `a`, `b`, `c` and `d` are either very small or very large numbers."
      ]
    },
    {
      "cell_type": "code",
      "execution_count": null,
      "id": "04a4bf25-12db-4d1a-880f-990c1fbcf103",
      "metadata": {
        "id": "04a4bf25-12db-4d1a-880f-990c1fbcf103"
      },
      "outputs": [],
      "source": [
        "a = 1e-280\n",
        "b = 1e-220\n",
        "c = 1e271\n",
        "d = 1e229"
      ]
    },
    {
      "cell_type": "code",
      "execution_count": null,
      "id": "10da0394-c0fb-40ab-afb6-229befb8592c",
      "metadata": {
        "id": "10da0394-c0fb-40ab-afb6-229befb8592c"
      },
      "outputs": [],
      "source": [
        "x = a*b*c*d\n",
        "print(f'x = a*b*c*d = {x} (underflow, since a and b are small)')\n",
        "x = c*d*a*b\n",
        "print(f'x = c*d*a*b = {x} (overflow, since c and d are large)')"
      ]
    },
    {
      "cell_type": "markdown",
      "id": "3be38b0c-3fb6-4f61-b590-ca828cb581cf",
      "metadata": {
        "id": "3be38b0c-3fb6-4f61-b590-ca828cb581cf"
      },
      "source": [
        "It's faster and safer (avoiding underflow) to do the computation in the log domain:\n",
        "\n",
        "`log_x = log(a) + log(b) + log(c) + log(d)`\n",
        "\n",
        "`x = exp(log_x)`"
      ]
    },
    {
      "cell_type": "code",
      "execution_count": null,
      "id": "70a48f67-0208-46fe-88ab-0ff35adef59d",
      "metadata": {
        "id": "70a48f67-0208-46fe-88ab-0ff35adef59d"
      },
      "outputs": [],
      "source": [
        "log_x = np.log(a) + np.log(b) + np.log(c) + np.log(d)\n",
        "print(f'log(x) = {log_x}')\n",
        "print(f'x = {np.exp(log_x)} (using log domain computation)')"
      ]
    }
  ],
  "metadata": {
    "kernelspec": {
      "display_name": "Python 3 (ipykernel)",
      "language": "python",
      "name": "python3"
    },
    "language_info": {
      "codemirror_mode": {
        "name": "ipython",
        "version": 3
      },
      "file_extension": ".py",
      "mimetype": "text/x-python",
      "name": "python",
      "nbconvert_exporter": "python",
      "pygments_lexer": "ipython3",
      "version": "3.7.4"
    },
    "colab": {
      "provenance": []
    }
  },
  "nbformat": 4,
  "nbformat_minor": 5
}